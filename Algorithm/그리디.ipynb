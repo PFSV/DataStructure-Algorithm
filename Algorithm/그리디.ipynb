{
 "cells": [
  {
   "cell_type": "code",
   "execution_count": 1,
   "metadata": {},
   "outputs": [
    {
     "name": "stdout",
     "output_type": "stream",
     "text": [
      "거스름돈은 총 2450원이다.\n",
      "거슬러주는 동전은 아래 와 같다. \n",
      " {1000: 2, 500: 0, 100: 4, 50: 1, 10: 0}\n",
      "거슬러주는 동전의 총 개수는 5개이다.\n"
     ]
    }
   ],
   "source": [
    "# 동전 거스름돈 알고리즘\n",
    "# 201902404 윤현섭\n",
    "# 테스트 케이스: price = 2550, pay = 5000인 경우\n",
    "price = int(input())\n",
    "pay = int(input())\n",
    "charge = pay - price\n",
    "print(\"거스름돈은 총 {0}원이다.\".format(charge))\n",
    "\n",
    "coins = [1000,500,100,50,10] # 거스름돈 액면가 종류\n",
    "result = {x: 0 for x in coins} # 거스름돈 출력 -> 동전 종류: 거슬러주는 동전 개수\n",
    "\n",
    "for coin in coins:\n",
    "\tcoin_count = charge // coin\n",
    "\tcharge -= coin * coin_count\n",
    "\tresult[coin] = coin_count\n",
    " \n",
    " \n",
    "print(\"거슬러주는 동전은 아래 와 같다. \\n {0}\".format(result))\n",
    "print(\"거슬러주는 동전의 총 개수는 {0}개이다.\".format(len(result.values())))"
   ]
  },
  {
   "cell_type": "code",
   "execution_count": null,
   "metadata": {},
   "outputs": [],
   "source": []
  }
 ],
 "metadata": {
  "kernelspec": {
   "display_name": "KU",
   "language": "python",
   "name": "python3"
  },
  "language_info": {
   "codemirror_mode": {
    "name": "ipython",
    "version": 3
   },
   "file_extension": ".py",
   "mimetype": "text/x-python",
   "name": "python",
   "nbconvert_exporter": "python",
   "pygments_lexer": "ipython3",
   "version": "3.9.13"
  },
  "orig_nbformat": 4
 },
 "nbformat": 4,
 "nbformat_minor": 2
}
